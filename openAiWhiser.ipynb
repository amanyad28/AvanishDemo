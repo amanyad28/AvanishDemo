{
  "nbformat": 4,
  "nbformat_minor": 0,
  "metadata": {
    "colab": {
      "provenance": [],
      "gpuType": "T4",
      "authorship_tag": "ABX9TyNHB13sf/h+JcWdD/HWNf72",
      "include_colab_link": true
    },
    "kernelspec": {
      "name": "python3",
      "display_name": "Python 3"
    },
    "language_info": {
      "name": "python"
    },
    "accelerator": "GPU"
  },
  "cells": [
    {
      "cell_type": "markdown",
      "metadata": {
        "id": "view-in-github",
        "colab_type": "text"
      },
      "source": [
        "<a href=\"https://colab.research.google.com/github/amanyad28/AvanishDemo/blob/main/openAiWhiser.ipynb\" target=\"_parent\"><img src=\"https://colab.research.google.com/assets/colab-badge.svg\" alt=\"Open In Colab\"/></a>"
      ]
    },
    {
      "cell_type": "code",
      "execution_count": null,
      "metadata": {
        "colab": {
          "base_uri": "https://localhost:8080/"
        },
        "id": "9W9KoxQZSxYr",
        "outputId": "b924ab2c-505a-4fac-8245-5a756cb77b94"
      },
      "outputs": [
        {
          "output_type": "stream",
          "name": "stdout",
          "text": [
            "Collecting openai-whisper\n",
            "  Downloading openai_whisper-20250625.tar.gz (803 kB)\n",
            "\u001b[?25l     \u001b[90m━━━━━━━━━━━━━━━━━━━━━━━━━━━━━━━━━━━━━━━━\u001b[0m \u001b[32m0.0/803.2 kB\u001b[0m \u001b[31m?\u001b[0m eta \u001b[36m-:--:--\u001b[0m\r\u001b[2K     \u001b[91m━━━━━\u001b[0m\u001b[91m╸\u001b[0m\u001b[90m━━━━━━━━━━━━━━━━━━━━━━━━━━━━━━━━━\u001b[0m \u001b[32m122.9/803.2 kB\u001b[0m \u001b[31m3.6 MB/s\u001b[0m eta \u001b[36m0:00:01\u001b[0m\r\u001b[2K     \u001b[91m━━━━━━━━━━━━━━━━━━━━━━━━━━━━━━━━━━━━━\u001b[0m\u001b[91m╸\u001b[0m \u001b[32m798.7/803.2 kB\u001b[0m \u001b[31m12.9 MB/s\u001b[0m eta \u001b[36m0:00:01\u001b[0m\r\u001b[2K     \u001b[90m━━━━━━━━━━━━━━━━━━━━━━━━━━━━━━━━━━━━━━\u001b[0m \u001b[32m803.2/803.2 kB\u001b[0m \u001b[31m10.0 MB/s\u001b[0m eta \u001b[36m0:00:00\u001b[0m\n",
            "\u001b[?25h  Installing build dependencies ... \u001b[?25l\u001b[?25hdone\n",
            "  Getting requirements to build wheel ... \u001b[?25l\u001b[?25hdone\n",
            "  Preparing metadata (pyproject.toml) ... \u001b[?25l\u001b[?25hdone\n",
            "Requirement already satisfied: more-itertools in /usr/local/lib/python3.11/dist-packages (from openai-whisper) (10.7.0)\n",
            "Requirement already satisfied: numba in /usr/local/lib/python3.11/dist-packages (from openai-whisper) (0.60.0)\n",
            "Requirement already satisfied: numpy in /usr/local/lib/python3.11/dist-packages (from openai-whisper) (2.0.2)\n",
            "Requirement already satisfied: tiktoken in /usr/local/lib/python3.11/dist-packages (from openai-whisper) (0.9.0)\n",
            "Requirement already satisfied: torch in /usr/local/lib/python3.11/dist-packages (from openai-whisper) (2.6.0+cu124)\n",
            "Requirement already satisfied: tqdm in /usr/local/lib/python3.11/dist-packages (from openai-whisper) (4.67.1)\n",
            "Requirement already satisfied: triton>=2 in /usr/local/lib/python3.11/dist-packages (from openai-whisper) (3.2.0)\n",
            "Requirement already satisfied: llvmlite<0.44,>=0.43.0dev0 in /usr/local/lib/python3.11/dist-packages (from numba->openai-whisper) (0.43.0)\n",
            "Requirement already satisfied: regex>=2022.1.18 in /usr/local/lib/python3.11/dist-packages (from tiktoken->openai-whisper) (2024.11.6)\n",
            "Requirement already satisfied: requests>=2.26.0 in /usr/local/lib/python3.11/dist-packages (from tiktoken->openai-whisper) (2.32.3)\n",
            "Requirement already satisfied: filelock in /usr/local/lib/python3.11/dist-packages (from torch->openai-whisper) (3.18.0)\n",
            "Requirement already satisfied: typing-extensions>=4.10.0 in /usr/local/lib/python3.11/dist-packages (from torch->openai-whisper) (4.14.0)\n",
            "Requirement already satisfied: networkx in /usr/local/lib/python3.11/dist-packages (from torch->openai-whisper) (3.5)\n",
            "Requirement already satisfied: jinja2 in /usr/local/lib/python3.11/dist-packages (from torch->openai-whisper) (3.1.6)\n",
            "Requirement already satisfied: fsspec in /usr/local/lib/python3.11/dist-packages (from torch->openai-whisper) (2025.3.2)\n",
            "Collecting nvidia-cuda-nvrtc-cu12==12.4.127 (from torch->openai-whisper)\n",
            "  Downloading nvidia_cuda_nvrtc_cu12-12.4.127-py3-none-manylinux2014_x86_64.whl.metadata (1.5 kB)\n",
            "Collecting nvidia-cuda-runtime-cu12==12.4.127 (from torch->openai-whisper)\n",
            "  Downloading nvidia_cuda_runtime_cu12-12.4.127-py3-none-manylinux2014_x86_64.whl.metadata (1.5 kB)\n",
            "Collecting nvidia-cuda-cupti-cu12==12.4.127 (from torch->openai-whisper)\n",
            "  Downloading nvidia_cuda_cupti_cu12-12.4.127-py3-none-manylinux2014_x86_64.whl.metadata (1.6 kB)\n",
            "Collecting nvidia-cudnn-cu12==9.1.0.70 (from torch->openai-whisper)\n",
            "  Downloading nvidia_cudnn_cu12-9.1.0.70-py3-none-manylinux2014_x86_64.whl.metadata (1.6 kB)\n",
            "Collecting nvidia-cublas-cu12==12.4.5.8 (from torch->openai-whisper)\n",
            "  Downloading nvidia_cublas_cu12-12.4.5.8-py3-none-manylinux2014_x86_64.whl.metadata (1.5 kB)\n",
            "Collecting nvidia-cufft-cu12==11.2.1.3 (from torch->openai-whisper)\n",
            "  Downloading nvidia_cufft_cu12-11.2.1.3-py3-none-manylinux2014_x86_64.whl.metadata (1.5 kB)\n",
            "Collecting nvidia-curand-cu12==10.3.5.147 (from torch->openai-whisper)\n",
            "  Downloading nvidia_curand_cu12-10.3.5.147-py3-none-manylinux2014_x86_64.whl.metadata (1.5 kB)\n",
            "Collecting nvidia-cusolver-cu12==11.6.1.9 (from torch->openai-whisper)\n",
            "  Downloading nvidia_cusolver_cu12-11.6.1.9-py3-none-manylinux2014_x86_64.whl.metadata (1.6 kB)\n",
            "Collecting nvidia-cusparse-cu12==12.3.1.170 (from torch->openai-whisper)\n",
            "  Downloading nvidia_cusparse_cu12-12.3.1.170-py3-none-manylinux2014_x86_64.whl.metadata (1.6 kB)\n",
            "Requirement already satisfied: nvidia-cusparselt-cu12==0.6.2 in /usr/local/lib/python3.11/dist-packages (from torch->openai-whisper) (0.6.2)\n",
            "Requirement already satisfied: nvidia-nccl-cu12==2.21.5 in /usr/local/lib/python3.11/dist-packages (from torch->openai-whisper) (2.21.5)\n",
            "Requirement already satisfied: nvidia-nvtx-cu12==12.4.127 in /usr/local/lib/python3.11/dist-packages (from torch->openai-whisper) (12.4.127)\n",
            "Collecting nvidia-nvjitlink-cu12==12.4.127 (from torch->openai-whisper)\n",
            "  Downloading nvidia_nvjitlink_cu12-12.4.127-py3-none-manylinux2014_x86_64.whl.metadata (1.5 kB)\n",
            "Requirement already satisfied: sympy==1.13.1 in /usr/local/lib/python3.11/dist-packages (from torch->openai-whisper) (1.13.1)\n",
            "Requirement already satisfied: mpmath<1.4,>=1.1.0 in /usr/local/lib/python3.11/dist-packages (from sympy==1.13.1->torch->openai-whisper) (1.3.0)\n",
            "Requirement already satisfied: charset-normalizer<4,>=2 in /usr/local/lib/python3.11/dist-packages (from requests>=2.26.0->tiktoken->openai-whisper) (3.4.2)\n",
            "Requirement already satisfied: idna<4,>=2.5 in /usr/local/lib/python3.11/dist-packages (from requests>=2.26.0->tiktoken->openai-whisper) (3.10)\n",
            "Requirement already satisfied: urllib3<3,>=1.21.1 in /usr/local/lib/python3.11/dist-packages (from requests>=2.26.0->tiktoken->openai-whisper) (2.4.0)\n",
            "Requirement already satisfied: certifi>=2017.4.17 in /usr/local/lib/python3.11/dist-packages (from requests>=2.26.0->tiktoken->openai-whisper) (2025.6.15)\n",
            "Requirement already satisfied: MarkupSafe>=2.0 in /usr/local/lib/python3.11/dist-packages (from jinja2->torch->openai-whisper) (3.0.2)\n",
            "Downloading nvidia_cublas_cu12-12.4.5.8-py3-none-manylinux2014_x86_64.whl (363.4 MB)\n",
            "\u001b[2K   \u001b[91m━━━━━━━━━━━━━━━━━━━━━━━━━━━━━━━━━━━━━━\u001b[0m\u001b[91m╸\u001b[0m \u001b[32m363.4/363.4 MB\u001b[0m \u001b[31m116.8 MB/s\u001b[0m eta \u001b[36m0:00:01\u001b[0m"
          ]
        }
      ],
      "source": [
        "pip install -U openai-whisper"
      ]
    },
    {
      "cell_type": "code",
      "source": [
        "pip install git+https://github.com/openai/whisper.git"
      ],
      "metadata": {
        "colab": {
          "base_uri": "https://localhost:8080/"
        },
        "id": "YOgx8501U90w",
        "outputId": "18462f78-214f-4b16-c7ed-699ac9bed426"
      },
      "execution_count": 1,
      "outputs": [
        {
          "output_type": "stream",
          "name": "stdout",
          "text": [
            "Collecting git+https://github.com/openai/whisper.git\n",
            "  Cloning https://github.com/openai/whisper.git to /tmp/pip-req-build-tr4q2vam\n",
            "  Running command git clone --filter=blob:none --quiet https://github.com/openai/whisper.git /tmp/pip-req-build-tr4q2vam\n",
            "  Resolved https://github.com/openai/whisper.git to commit c0d2f624c09dc18e709e37c2ad90c039a4eb72a2\n",
            "  Installing build dependencies ... \u001b[?25l\u001b[?25hdone\n",
            "  Getting requirements to build wheel ... \u001b[?25l\u001b[?25hdone\n",
            "  Preparing metadata (pyproject.toml) ... \u001b[?25l\u001b[?25hdone\n",
            "Requirement already satisfied: more-itertools in /usr/local/lib/python3.11/dist-packages (from openai-whisper==20250625) (10.7.0)\n",
            "Requirement already satisfied: numba in /usr/local/lib/python3.11/dist-packages (from openai-whisper==20250625) (0.60.0)\n",
            "Requirement already satisfied: numpy in /usr/local/lib/python3.11/dist-packages (from openai-whisper==20250625) (2.0.2)\n",
            "Requirement already satisfied: tiktoken in /usr/local/lib/python3.11/dist-packages (from openai-whisper==20250625) (0.9.0)\n",
            "Requirement already satisfied: torch in /usr/local/lib/python3.11/dist-packages (from openai-whisper==20250625) (2.6.0+cu124)\n",
            "Requirement already satisfied: tqdm in /usr/local/lib/python3.11/dist-packages (from openai-whisper==20250625) (4.67.1)\n",
            "Requirement already satisfied: triton>=2 in /usr/local/lib/python3.11/dist-packages (from openai-whisper==20250625) (3.2.0)\n",
            "Requirement already satisfied: llvmlite<0.44,>=0.43.0dev0 in /usr/local/lib/python3.11/dist-packages (from numba->openai-whisper==20250625) (0.43.0)\n",
            "Requirement already satisfied: regex>=2022.1.18 in /usr/local/lib/python3.11/dist-packages (from tiktoken->openai-whisper==20250625) (2024.11.6)\n",
            "Requirement already satisfied: requests>=2.26.0 in /usr/local/lib/python3.11/dist-packages (from tiktoken->openai-whisper==20250625) (2.32.3)\n",
            "Requirement already satisfied: filelock in /usr/local/lib/python3.11/dist-packages (from torch->openai-whisper==20250625) (3.18.0)\n",
            "Requirement already satisfied: typing-extensions>=4.10.0 in /usr/local/lib/python3.11/dist-packages (from torch->openai-whisper==20250625) (4.14.0)\n",
            "Requirement already satisfied: networkx in /usr/local/lib/python3.11/dist-packages (from torch->openai-whisper==20250625) (3.5)\n",
            "Requirement already satisfied: jinja2 in /usr/local/lib/python3.11/dist-packages (from torch->openai-whisper==20250625) (3.1.6)\n",
            "Requirement already satisfied: fsspec in /usr/local/lib/python3.11/dist-packages (from torch->openai-whisper==20250625) (2025.3.2)\n",
            "Collecting nvidia-cuda-nvrtc-cu12==12.4.127 (from torch->openai-whisper==20250625)\n",
            "  Downloading nvidia_cuda_nvrtc_cu12-12.4.127-py3-none-manylinux2014_x86_64.whl.metadata (1.5 kB)\n",
            "Collecting nvidia-cuda-runtime-cu12==12.4.127 (from torch->openai-whisper==20250625)\n",
            "  Downloading nvidia_cuda_runtime_cu12-12.4.127-py3-none-manylinux2014_x86_64.whl.metadata (1.5 kB)\n",
            "Collecting nvidia-cuda-cupti-cu12==12.4.127 (from torch->openai-whisper==20250625)\n",
            "  Downloading nvidia_cuda_cupti_cu12-12.4.127-py3-none-manylinux2014_x86_64.whl.metadata (1.6 kB)\n",
            "Collecting nvidia-cudnn-cu12==9.1.0.70 (from torch->openai-whisper==20250625)\n",
            "  Downloading nvidia_cudnn_cu12-9.1.0.70-py3-none-manylinux2014_x86_64.whl.metadata (1.6 kB)\n",
            "Collecting nvidia-cublas-cu12==12.4.5.8 (from torch->openai-whisper==20250625)\n",
            "  Downloading nvidia_cublas_cu12-12.4.5.8-py3-none-manylinux2014_x86_64.whl.metadata (1.5 kB)\n",
            "Collecting nvidia-cufft-cu12==11.2.1.3 (from torch->openai-whisper==20250625)\n",
            "  Downloading nvidia_cufft_cu12-11.2.1.3-py3-none-manylinux2014_x86_64.whl.metadata (1.5 kB)\n",
            "Collecting nvidia-curand-cu12==10.3.5.147 (from torch->openai-whisper==20250625)\n",
            "  Downloading nvidia_curand_cu12-10.3.5.147-py3-none-manylinux2014_x86_64.whl.metadata (1.5 kB)\n",
            "Collecting nvidia-cusolver-cu12==11.6.1.9 (from torch->openai-whisper==20250625)\n",
            "  Downloading nvidia_cusolver_cu12-11.6.1.9-py3-none-manylinux2014_x86_64.whl.metadata (1.6 kB)\n",
            "Collecting nvidia-cusparse-cu12==12.3.1.170 (from torch->openai-whisper==20250625)\n",
            "  Downloading nvidia_cusparse_cu12-12.3.1.170-py3-none-manylinux2014_x86_64.whl.metadata (1.6 kB)\n",
            "Requirement already satisfied: nvidia-cusparselt-cu12==0.6.2 in /usr/local/lib/python3.11/dist-packages (from torch->openai-whisper==20250625) (0.6.2)\n",
            "Requirement already satisfied: nvidia-nccl-cu12==2.21.5 in /usr/local/lib/python3.11/dist-packages (from torch->openai-whisper==20250625) (2.21.5)\n",
            "Requirement already satisfied: nvidia-nvtx-cu12==12.4.127 in /usr/local/lib/python3.11/dist-packages (from torch->openai-whisper==20250625) (12.4.127)\n",
            "Collecting nvidia-nvjitlink-cu12==12.4.127 (from torch->openai-whisper==20250625)\n",
            "  Downloading nvidia_nvjitlink_cu12-12.4.127-py3-none-manylinux2014_x86_64.whl.metadata (1.5 kB)\n",
            "Requirement already satisfied: sympy==1.13.1 in /usr/local/lib/python3.11/dist-packages (from torch->openai-whisper==20250625) (1.13.1)\n",
            "Requirement already satisfied: mpmath<1.4,>=1.1.0 in /usr/local/lib/python3.11/dist-packages (from sympy==1.13.1->torch->openai-whisper==20250625) (1.3.0)\n",
            "Requirement already satisfied: charset-normalizer<4,>=2 in /usr/local/lib/python3.11/dist-packages (from requests>=2.26.0->tiktoken->openai-whisper==20250625) (3.4.2)\n",
            "Requirement already satisfied: idna<4,>=2.5 in /usr/local/lib/python3.11/dist-packages (from requests>=2.26.0->tiktoken->openai-whisper==20250625) (3.10)\n",
            "Requirement already satisfied: urllib3<3,>=1.21.1 in /usr/local/lib/python3.11/dist-packages (from requests>=2.26.0->tiktoken->openai-whisper==20250625) (2.4.0)\n",
            "Requirement already satisfied: certifi>=2017.4.17 in /usr/local/lib/python3.11/dist-packages (from requests>=2.26.0->tiktoken->openai-whisper==20250625) (2025.6.15)\n",
            "Requirement already satisfied: MarkupSafe>=2.0 in /usr/local/lib/python3.11/dist-packages (from jinja2->torch->openai-whisper==20250625) (3.0.2)\n",
            "Downloading nvidia_cublas_cu12-12.4.5.8-py3-none-manylinux2014_x86_64.whl (363.4 MB)\n",
            "\u001b[2K   \u001b[90m━━━━━━━━━━━━━━━━━━━━━━━━━━━━━━━━━━━━━━━━\u001b[0m \u001b[32m363.4/363.4 MB\u001b[0m \u001b[31m4.0 MB/s\u001b[0m eta \u001b[36m0:00:00\u001b[0m\n",
            "\u001b[?25hDownloading nvidia_cuda_cupti_cu12-12.4.127-py3-none-manylinux2014_x86_64.whl (13.8 MB)\n",
            "\u001b[2K   \u001b[90m━━━━━━━━━━━━━━━━━━━━━━━━━━━━━━━━━━━━━━━━\u001b[0m \u001b[32m13.8/13.8 MB\u001b[0m \u001b[31m66.1 MB/s\u001b[0m eta \u001b[36m0:00:00\u001b[0m\n",
            "\u001b[?25hDownloading nvidia_cuda_nvrtc_cu12-12.4.127-py3-none-manylinux2014_x86_64.whl (24.6 MB)\n",
            "\u001b[2K   \u001b[90m━━━━━━━━━━━━━━━━━━━━━━━━━━━━━━━━━━━━━━━━\u001b[0m \u001b[32m24.6/24.6 MB\u001b[0m \u001b[31m36.2 MB/s\u001b[0m eta \u001b[36m0:00:00\u001b[0m\n",
            "\u001b[?25hDownloading nvidia_cuda_runtime_cu12-12.4.127-py3-none-manylinux2014_x86_64.whl (883 kB)\n",
            "\u001b[2K   \u001b[90m━━━━━━━━━━━━━━━━━━━━━━━━━━━━━━━━━━━━━━━━\u001b[0m \u001b[32m883.7/883.7 kB\u001b[0m \u001b[31m50.0 MB/s\u001b[0m eta \u001b[36m0:00:00\u001b[0m\n",
            "\u001b[?25hDownloading nvidia_cudnn_cu12-9.1.0.70-py3-none-manylinux2014_x86_64.whl (664.8 MB)\n",
            "\u001b[2K   \u001b[90m━━━━━━━━━━━━━━━━━━━━━━━━━━━━━━━━━━━━━━━━\u001b[0m \u001b[32m664.8/664.8 MB\u001b[0m \u001b[31m2.2 MB/s\u001b[0m eta \u001b[36m0:00:00\u001b[0m\n",
            "\u001b[?25hDownloading nvidia_cufft_cu12-11.2.1.3-py3-none-manylinux2014_x86_64.whl (211.5 MB)\n",
            "\u001b[2K   \u001b[90m━━━━━━━━━━━━━━━━━━━━━━━━━━━━━━━━━━━━━━━━\u001b[0m \u001b[32m211.5/211.5 MB\u001b[0m \u001b[31m5.5 MB/s\u001b[0m eta \u001b[36m0:00:00\u001b[0m\n",
            "\u001b[?25hDownloading nvidia_curand_cu12-10.3.5.147-py3-none-manylinux2014_x86_64.whl (56.3 MB)\n",
            "\u001b[2K   \u001b[90m━━━━━━━━━━━━━━━━━━━━━━━━━━━━━━━━━━━━━━━━\u001b[0m \u001b[32m56.3/56.3 MB\u001b[0m \u001b[31m12.7 MB/s\u001b[0m eta \u001b[36m0:00:00\u001b[0m\n",
            "\u001b[?25hDownloading nvidia_cusolver_cu12-11.6.1.9-py3-none-manylinux2014_x86_64.whl (127.9 MB)\n",
            "\u001b[2K   \u001b[90m━━━━━━━━━━━━━━━━━━━━━━━━━━━━━━━━━━━━━━━━\u001b[0m \u001b[32m127.9/127.9 MB\u001b[0m \u001b[31m7.6 MB/s\u001b[0m eta \u001b[36m0:00:00\u001b[0m\n",
            "\u001b[?25hDownloading nvidia_cusparse_cu12-12.3.1.170-py3-none-manylinux2014_x86_64.whl (207.5 MB)\n",
            "\u001b[2K   \u001b[90m━━━━━━━━━━━━━━━━━━━━━━━━━━━━━━━━━━━━━━━━\u001b[0m \u001b[32m207.5/207.5 MB\u001b[0m \u001b[31m6.8 MB/s\u001b[0m eta \u001b[36m0:00:00\u001b[0m\n",
            "\u001b[?25hDownloading nvidia_nvjitlink_cu12-12.4.127-py3-none-manylinux2014_x86_64.whl (21.1 MB)\n",
            "\u001b[2K   \u001b[90m━━━━━━━━━━━━━━━━━━━━━━━━━━━━━━━━━━━━━━━━\u001b[0m \u001b[32m21.1/21.1 MB\u001b[0m \u001b[31m62.8 MB/s\u001b[0m eta \u001b[36m0:00:00\u001b[0m\n",
            "\u001b[?25hBuilding wheels for collected packages: openai-whisper\n",
            "  Building wheel for openai-whisper (pyproject.toml) ... \u001b[?25l\u001b[?25hdone\n",
            "  Created wheel for openai-whisper: filename=openai_whisper-20250625-py3-none-any.whl size=803979 sha256=eba4c1cc168ad04113c837e9c8e066d539bd360e65b55ff531d7c36c3499e369\n",
            "  Stored in directory: /tmp/pip-ephem-wheel-cache-6nj242j5/wheels/1f/1d/98/9583695e6695a6ac0ad42d87511097dce5ba486647dbfecb0e\n",
            "Successfully built openai-whisper\n",
            "Installing collected packages: nvidia-nvjitlink-cu12, nvidia-curand-cu12, nvidia-cufft-cu12, nvidia-cuda-runtime-cu12, nvidia-cuda-nvrtc-cu12, nvidia-cuda-cupti-cu12, nvidia-cublas-cu12, nvidia-cusparse-cu12, nvidia-cudnn-cu12, nvidia-cusolver-cu12, openai-whisper\n",
            "  Attempting uninstall: nvidia-nvjitlink-cu12\n",
            "    Found existing installation: nvidia-nvjitlink-cu12 12.5.82\n",
            "    Uninstalling nvidia-nvjitlink-cu12-12.5.82:\n",
            "      Successfully uninstalled nvidia-nvjitlink-cu12-12.5.82\n",
            "  Attempting uninstall: nvidia-curand-cu12\n",
            "    Found existing installation: nvidia-curand-cu12 10.3.6.82\n",
            "    Uninstalling nvidia-curand-cu12-10.3.6.82:\n",
            "      Successfully uninstalled nvidia-curand-cu12-10.3.6.82\n",
            "  Attempting uninstall: nvidia-cufft-cu12\n",
            "    Found existing installation: nvidia-cufft-cu12 11.2.3.61\n",
            "    Uninstalling nvidia-cufft-cu12-11.2.3.61:\n",
            "      Successfully uninstalled nvidia-cufft-cu12-11.2.3.61\n",
            "  Attempting uninstall: nvidia-cuda-runtime-cu12\n",
            "    Found existing installation: nvidia-cuda-runtime-cu12 12.5.82\n",
            "    Uninstalling nvidia-cuda-runtime-cu12-12.5.82:\n",
            "      Successfully uninstalled nvidia-cuda-runtime-cu12-12.5.82\n",
            "  Attempting uninstall: nvidia-cuda-nvrtc-cu12\n",
            "    Found existing installation: nvidia-cuda-nvrtc-cu12 12.5.82\n",
            "    Uninstalling nvidia-cuda-nvrtc-cu12-12.5.82:\n",
            "      Successfully uninstalled nvidia-cuda-nvrtc-cu12-12.5.82\n",
            "  Attempting uninstall: nvidia-cuda-cupti-cu12\n",
            "    Found existing installation: nvidia-cuda-cupti-cu12 12.5.82\n",
            "    Uninstalling nvidia-cuda-cupti-cu12-12.5.82:\n",
            "      Successfully uninstalled nvidia-cuda-cupti-cu12-12.5.82\n",
            "  Attempting uninstall: nvidia-cublas-cu12\n",
            "    Found existing installation: nvidia-cublas-cu12 12.5.3.2\n",
            "    Uninstalling nvidia-cublas-cu12-12.5.3.2:\n",
            "      Successfully uninstalled nvidia-cublas-cu12-12.5.3.2\n",
            "  Attempting uninstall: nvidia-cusparse-cu12\n",
            "    Found existing installation: nvidia-cusparse-cu12 12.5.1.3\n",
            "    Uninstalling nvidia-cusparse-cu12-12.5.1.3:\n",
            "      Successfully uninstalled nvidia-cusparse-cu12-12.5.1.3\n",
            "  Attempting uninstall: nvidia-cudnn-cu12\n",
            "    Found existing installation: nvidia-cudnn-cu12 9.3.0.75\n",
            "    Uninstalling nvidia-cudnn-cu12-9.3.0.75:\n",
            "      Successfully uninstalled nvidia-cudnn-cu12-9.3.0.75\n",
            "  Attempting uninstall: nvidia-cusolver-cu12\n",
            "    Found existing installation: nvidia-cusolver-cu12 11.6.3.83\n",
            "    Uninstalling nvidia-cusolver-cu12-11.6.3.83:\n",
            "      Successfully uninstalled nvidia-cusolver-cu12-11.6.3.83\n",
            "Successfully installed nvidia-cublas-cu12-12.4.5.8 nvidia-cuda-cupti-cu12-12.4.127 nvidia-cuda-nvrtc-cu12-12.4.127 nvidia-cuda-runtime-cu12-12.4.127 nvidia-cudnn-cu12-9.1.0.70 nvidia-cufft-cu12-11.2.1.3 nvidia-curand-cu12-10.3.5.147 nvidia-cusolver-cu12-11.6.1.9 nvidia-cusparse-cu12-12.3.1.170 nvidia-nvjitlink-cu12-12.4.127 openai-whisper-20250625\n"
          ]
        }
      ]
    },
    {
      "cell_type": "code",
      "source": [
        "import whisper\n",
        "\n",
        "model = whisper.load_model(\"base\")"
      ],
      "metadata": {
        "colab": {
          "base_uri": "https://localhost:8080/"
        },
        "id": "6D913x2jVJJ9",
        "outputId": "d4ed5b14-0012-492c-f62d-970bf27ff22d"
      },
      "execution_count": 2,
      "outputs": [
        {
          "output_type": "stream",
          "name": "stderr",
          "text": [
            "100%|████████████████████████████████████████| 139M/139M [00:00<00:00, 156MiB/s]\n"
          ]
        }
      ]
    },
    {
      "cell_type": "code",
      "source": [
        "\n",
        "from IPython.display import Audio\n",
        "Audio(\"/content/DemoSpeech.opus\")"
      ],
      "metadata": {
        "colab": {
          "base_uri": "https://localhost:8080/",
          "height": 75
        },
        "id": "otyhoe7mb0Dk",
        "outputId": "1b41c946-8364-4280-c912-57a0d522efce"
      },
      "execution_count": 18,
      "outputs": [
        {
          "output_type": "execute_result",
          "data": {
            "text/plain": [
              "<IPython.lib.display.Audio object>"
            ],
            "text/html": [
              "\n",
              "                <audio  controls=\"controls\" >\n",
              "                    <source src=\"data:audio/ogg;base64,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\" type=\"audio/ogg\" />\n",
              "                    Your browser does not support the audio element.\n",
              "                </audio>\n",
              "              "
            ]
          },
          "metadata": {},
          "execution_count": 18
        }
      ]
    },
    {
      "cell_type": "code",
      "source": [
        "# load audio and pad/trim it to fit 30 seconds\n",
        "audio = whisper.load_audio(\"/content/DemoSpeech.opus\")\n",
        "audio = whisper.pad_or_trim(audio)\n"
      ],
      "metadata": {
        "id": "FcXBQOn_WLUd"
      },
      "execution_count": 19,
      "outputs": []
    },
    {
      "cell_type": "code",
      "source": [
        "# make log-Mel spectrogram and move to the same device as the model\n",
        "mel = whisper.log_mel_spectrogram(audio, n_mels=model.dims.n_mels).to(model.device)\n"
      ],
      "metadata": {
        "id": "8alunTMIWkIk"
      },
      "execution_count": 20,
      "outputs": []
    },
    {
      "cell_type": "code",
      "source": [
        "# detect the spoken language\n",
        "_, probs = model.detect_language(mel)\n",
        "print(f\"Detected language: {max(probs, key=probs.get)}\")\n"
      ],
      "metadata": {
        "colab": {
          "base_uri": "https://localhost:8080/"
        },
        "id": "V9MSmw-TW8oF",
        "outputId": "bcc370c3-1f7a-4bed-f68c-f7282d1b7c9f"
      },
      "execution_count": 21,
      "outputs": [
        {
          "output_type": "stream",
          "name": "stdout",
          "text": [
            "Detected language: en\n"
          ]
        }
      ]
    },
    {
      "cell_type": "code",
      "source": [
        "# decode the audio\n",
        "options = whisper.DecodingOptions()\n",
        "result = whisper.decode(model, mel, options)"
      ],
      "metadata": {
        "id": "NrDV_pILW-98"
      },
      "execution_count": 22,
      "outputs": []
    },
    {
      "cell_type": "code",
      "source": [
        "# print the recognized text\n",
        "print(result.text)"
      ],
      "metadata": {
        "colab": {
          "base_uri": "https://localhost:8080/"
        },
        "id": "ELj7JTk0ie9m",
        "outputId": "683e35f1-a71f-45d8-93e6-5252b9e822e2"
      },
      "execution_count": 26,
      "outputs": [
        {
          "output_type": "stream",
          "name": "stdout",
          "text": [
            "So, guys, it's already 114 am and we are testing our AI model which can convert text into speech.\n"
          ]
        }
      ]
    }
  ]
}